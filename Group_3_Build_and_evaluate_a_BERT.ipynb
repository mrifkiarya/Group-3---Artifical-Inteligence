{
  "nbformat": 4,
  "nbformat_minor": 0,
  "metadata": {
    "colab": {
      "provenance": [],
      "authorship_tag": "ABX9TyNd78KDZnd/qy4QkT8Q/Bhp",
      "include_colab_link": true
    },
    "kernelspec": {
      "name": "python3",
      "display_name": "Python 3"
    },
    "language_info": {
      "name": "python"
    }
  },
  "cells": [
    {
      "cell_type": "markdown",
      "metadata": {
        "id": "view-in-github",
        "colab_type": "text"
      },
      "source": [
        "<a href=\"https://colab.research.google.com/github/mrifkiarya/Group-3---Artifical-Inteligence/blob/main/Group_3_Build_and_evaluate_a_BERT.ipynb\" target=\"_parent\"><img src=\"https://colab.research.google.com/assets/colab-badge.svg\" alt=\"Open In Colab\"/></a>"
      ]
    },
    {
      "cell_type": "markdown",
      "source": [
        "**1. Find or prepare an Indonesian sentiment dataset (e.g., product reviews, tweets).**"
      ],
      "metadata": {
        "id": "H7Z3D9PG6gzo"
      }
    },
    {
      "cell_type": "code",
      "execution_count": 29,
      "metadata": {
        "id": "hXcH0KrN6gTr"
      },
      "outputs": [],
      "source": [
        "!pip install datasets transformers scikit-learn --quiet\n",
        "\n",
        "import pandas as pd\n",
        "from datasets import load_dataset\n",
        "\n",
        "ds = load_dataset(\"jakartaresearch/google-play-review\")\n",
        "\n",
        "df = pd.DataFrame({\n",
        "    'text': ds['train']['text'],\n",
        "    'label': ds['train']['label']\n",
        "})\n",
        "\n",
        "df['label'] = df['label'].map({'pos': 1, 'neg': 0})\n",
        "\n",
        "pos_df = df[df['label'] == 1].sample(100, random_state=42)\n",
        "neg_df = df[df['label'] == 0].sample(100, random_state=42)\n",
        "df = pd.concat([pos_df, neg_df]).sample(frac=1, random_state=42).reset_index(drop=True)\n",
        "\n",
        "from sklearn.model_selection import train_test_split\n",
        "train_df, test_df = train_test_split(df, test_size=0.2, random_state=42)"
      ]
    },
    {
      "cell_type": "markdown",
      "source": [
        "**2. Tokenize using a multilingual or Indonesian-specific BERT model (indobenchmark/indobert-base-p1).**"
      ],
      "metadata": {
        "id": "eg1Er0oy7U0D"
      }
    },
    {
      "cell_type": "code",
      "source": [
        "import torch\n",
        "from transformers import BertTokenizer\n",
        "from torch.utils.data import TensorDataset\n",
        "\n",
        "tokenizer = BertTokenizer.from_pretrained(\"indobenchmark/indobert-base-p1\")\n",
        "\n",
        "def prepare_data(texts, labels, tokenizer, max_len=128):\n",
        "    encodings = tokenizer(texts, truncation=True, padding=True, max_length=max_len, return_tensors=\"pt\")\n",
        "    return TensorDataset(\n",
        "        encodings['input_ids'],\n",
        "        encodings['attention_mask'],\n",
        "        torch.tensor(labels)\n",
        "    )\n",
        "\n",
        "train_data = prepare_data(train_df['text'].tolist(), train_df['label'].tolist(), tokenizer)\n",
        "test_data = prepare_data(test_df['text'].tolist(), test_df['label'].tolist(), tokenizer)"
      ],
      "metadata": {
        "id": "Up0IIntt69bH"
      },
      "execution_count": 30,
      "outputs": []
    },
    {
      "cell_type": "markdown",
      "source": [
        "**3. Fine-tune the model, adapting hyperparameters for data size.**"
      ],
      "metadata": {
        "id": "CnIk3IhN7k8N"
      }
    },
    {
      "cell_type": "code",
      "source": [
        "from transformers import BertForSequenceClassification\n",
        "from torch.optim import AdamW\n",
        "from torch.utils.data import DataLoader\n",
        "\n",
        "model = BertForSequenceClassification.from_pretrained(\"indobenchmark/indobert-base-p1\", num_labels=2)\n",
        "\n",
        "device = torch.device(\"cuda\" if torch.cuda.is_available() else \"cpu\")\n",
        "model.to(device)\n",
        "\n",
        "optimizer = AdamW(model.parameters(), lr=2e-5)\n",
        "\n",
        "train_loader = DataLoader(train_data, batch_size=8, shuffle=True)\n",
        "model.train()\n",
        "for epoch in range(2):\n",
        "    total_loss = 0\n",
        "    for batch in train_loader:\n",
        "        input_ids, attention_mask, labels = [x.to(device) for x in batch]\n",
        "\n",
        "        optimizer.zero_grad()\n",
        "        outputs = model(input_ids, attention_mask=attention_mask, labels=labels)\n",
        "        loss = outputs.loss\n",
        "        loss.backward()\n",
        "        optimizer.step()\n",
        "\n",
        "        total_loss += loss.item()\n",
        "    print(f\"Epoch {epoch+1} selesai - Loss: {total_loss / len(train_loader):.4f}\")"
      ],
      "metadata": {
        "colab": {
          "base_uri": "https://localhost:8080/",
          "height": 0
        },
        "id": "L6AARd4d7nHN",
        "outputId": "ae39e4c3-7dd7-4f3e-e96c-bf80558cf066"
      },
      "execution_count": 31,
      "outputs": [
        {
          "output_type": "stream",
          "name": "stderr",
          "text": [
            "Some weights of BertForSequenceClassification were not initialized from the model checkpoint at indobenchmark/indobert-base-p1 and are newly initialized: ['classifier.bias', 'classifier.weight']\n",
            "You should probably TRAIN this model on a down-stream task to be able to use it for predictions and inference.\n"
          ]
        },
        {
          "output_type": "stream",
          "name": "stdout",
          "text": [
            "Epoch 1 selesai - Loss: 0.4699\n",
            "Epoch 2 selesai - Loss: 0.2246\n"
          ]
        }
      ]
    },
    {
      "cell_type": "markdown",
      "source": [
        "**4. Evaluate with accuracy, precision/recall, and confusion matrix.**"
      ],
      "metadata": {
        "id": "StDXUfx-7zBF"
      }
    },
    {
      "cell_type": "code",
      "source": [
        "from sklearn.metrics import accuracy_score, precision_score, recall_score, confusion_matrix, ConfusionMatrixDisplay\n",
        "from sklearn.metrics import classification_report\n",
        "import matplotlib.pyplot as plt\n",
        "import numpy as np\n",
        "\n",
        "model.eval()\n",
        "predictions = []\n",
        "true_labels = []\n",
        "\n",
        "test_loader = DataLoader(test_data, batch_size=8)\n",
        "with torch.no_grad():\n",
        "    for batch in test_loader:\n",
        "        input_ids, attention_mask, labels = [x.to(device) for x in batch]\n",
        "        outputs = model(input_ids, attention_mask=attention_mask)\n",
        "        preds = torch.argmax(outputs.logits, dim=1)\n",
        "        predictions.extend(preds.cpu().numpy())\n",
        "        true_labels.extend(labels.cpu().numpy())\n",
        "\n",
        "acc = accuracy_score(true_labels, predictions)\n",
        "prec = precision_score(true_labels, predictions)\n",
        "rec = recall_score(true_labels, predictions)\n",
        "cm = confusion_matrix(true_labels, predictions)\n",
        "\n",
        "print(\"=== Evaluasi Model ===\")\n",
        "print(f\"Akurasi : {acc:.4f}\")\n",
        "print(f\"Presisi : {prec:.4f}\")\n",
        "print(f\"Recall  : {rec:.4f}\")\n",
        "\n",
        "print(\"=== Classification Report ===\")\n",
        "print(classification_report(true_labels, predictions, target_names=[\"Negative\", \"Positive\"]))\n",
        "\n",
        "cm = confusion_matrix(true_labels, predictions)\n",
        "disp = ConfusionMatrixDisplay(confusion_matrix=cm, display_labels=[\"Negatif\", \"Positif\"])\n",
        "disp.plot(cmap=\"Blues\")\n",
        "plt.title(\"Confusion Matrix\")\n",
        "plt.show()"
      ],
      "metadata": {
        "colab": {
          "base_uri": "https://localhost:8080/",
          "height": 725
        },
        "id": "7QPjTI-s_sXh",
        "outputId": "0a73af12-792a-40a6-94d7-aeed4242a62d"
      },
      "execution_count": 36,
      "outputs": [
        {
          "output_type": "stream",
          "name": "stdout",
          "text": [
            "=== Evaluasi Model ===\n",
            "Akurasi : 0.8000\n",
            "Presisi : 0.7333\n",
            "Recall  : 1.0000\n",
            "=== Classification Report ===\n",
            "              precision    recall  f1-score   support\n",
            "\n",
            "    Negative       1.00      0.56      0.71        18\n",
            "    Positive       0.73      1.00      0.85        22\n",
            "\n",
            "    accuracy                           0.80        40\n",
            "   macro avg       0.87      0.78      0.78        40\n",
            "weighted avg       0.85      0.80      0.79        40\n",
            "\n"
          ]
        },
        {
          "output_type": "display_data",
          "data": {
            "text/plain": [
              "<Figure size 640x480 with 2 Axes>"
            ],
            "image/png": "[encoded data removed]"
          },
          "metadata": {}
        }
      ]
    },
    {
      "cell_type": "markdown",
      "source": [
        "**5. Analyze common error cases and discuss language-specific challenges**"
      ],
      "metadata": {
        "id": "eSPG0wu0_zBU"
      }
    },
    {
      "cell_type": "code",
      "source": [
        "# Error Cases\n",
        "test_texts = test_df['text'].tolist()\n",
        "errors = [(text, true, pred) for text, true, pred in zip(test_texts, true_labels, predictions) if true != pred]\n",
        "\n",
        "print(\"\\nContoh Kasus Salah Prediksi:\")\n",
        "for i, (text, true, pred) in enumerate(errors[:5]):\n",
        "    print(f\"\\n{i+1}. Teks: {text}\")\n",
        "    print(f\"   Label Asli: {true}, Prediksi: {pred}\")\n",
        "\n",
        "# Language-specific challenges\n",
        "print(\"\\nTantangan Bahasa Indonesia:\")\n",
        "print(\"- Banyak kata informal dan tidak baku di review.\")\n",
        "print(\"- Kata-kata slang/gaul atau singkatan sulit dimengerti model.\")\n",
        "print(\"- Struktur kalimat yang tidak selalu mengikuti aturan baku.\")"
      ],
      "metadata": {
        "colab": {
          "base_uri": "https://localhost:8080/",
          "height": 0
        },
        "id": "GPnjRhsl_1lF",
        "outputId": "0cbaca43-83bb-4a88-95a7-0a6874a1533a"
      },
      "execution_count": 35,
      "outputs": [
        {
          "output_type": "stream",
          "name": "stdout",
          "text": [
            "\n",
            "Contoh Kasus Salah Prediksi:\n",
            "\n",
            "1. Teks:  maintenance trus\n",
            "   Label Asli: 0, Prediksi: 1\n",
            "\n",
            "2. Teks:  Coba ditingkatka app. ini dgn menambahkan bbrp fitur, spt: chat dengan seller, komplain barang, pembatalan pesanan. Thx.\n",
            "   Label Asli: 0, Prediksi: 1\n",
            "\n",
            "3. Teks:  ok\n",
            "   Label Asli: 0, Prediksi: 1\n",
            "\n",
            "4. Teks:  Nyoba dulu\n",
            "   Label Asli: 0, Prediksi: 1\n",
            "\n",
            "5. Teks:  Please\n",
            " add feature to choose delivery courier, it will help the customer to \n",
            "choose what courier that more suitable for them, but please keep it \n",
            "always free of charge. :)\n",
            "   Label Asli: 0, Prediksi: 1\n",
            "\n",
            "Tantangan Bahasa Indonesia:\n",
            "- Banyak kata informal dan tidak baku di review.\n",
            "- Kata-kata slang/gaul atau singkatan sulit dimengerti model.\n",
            "- Struktur kalimat yang tidak selalu mengikuti aturan baku.\n"
          ]
        }
      ]
    }
  ]
}